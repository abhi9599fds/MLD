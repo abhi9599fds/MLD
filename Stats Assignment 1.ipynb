{
 "cells": [
  {
   "cell_type": "code",
   "execution_count": 14,
   "metadata": {},
   "outputs": [],
   "source": [
    "import numpy as np\n",
    "from scipy.stats import norm,binom,expon,mode,poisson\n",
    "import pandas as pd"
   ]
  },
  {
   "cell_type": "markdown",
   "metadata": {},
   "source": [
    "Calculate the mean, median, mode and standard deviation for the problem\n",
    "statements 1& 2.\\\n",
    "Problem Statement 1:\n",
    "The marks awarded for an assignment set for a Year 8 class of 20 students were as\n",
    "follows:\n",
    "6 7 5 7 7 8 7 6 9 7 4 10 6 8 8 9 5 6 4 8"
   ]
  },
  {
   "cell_type": "code",
   "execution_count": 15,
   "metadata": {},
   "outputs": [
    {
     "name": "stdout",
     "output_type": "stream",
     "text": [
      "Mean  6.85\n",
      "Standard Deviation  1.5898113095584647\n",
      "Mode  [7]\n",
      "Median 7.0\n"
     ]
    }
   ],
   "source": [
    "#Question 1\n",
    "\n",
    "from collections import Counter\n",
    "\n",
    "def median_func(x):\n",
    "    x = np.sort(x)\n",
    "    if x.shape[0] % 2 == 0:\n",
    "        mid = x.shape[0]//2\n",
    "        return (x[mid-1] + x[mid-2]) / 2\n",
    "      \n",
    "    else :\n",
    "        mid = (x.shape[0] + 1) //2\n",
    "        return x[mid-1]\n",
    "    \n",
    "def mode_func(x):\n",
    "    c = Counter(x)\n",
    "    mv = max(c.values())\n",
    "    mk = []\n",
    "    for key,value in c.items():\n",
    "        if mv == value :\n",
    "            mk.append(key)\n",
    "    return mk,mv\n",
    "\n",
    "def mean_func(x,ddof = 0):\n",
    "    if  not isinstance(x , np.ndarray):\n",
    "        x = np.array(x)\n",
    "    return np.sum(x) / (x.shape[0] - ddof)\n",
    "\n",
    "def std_func(x ,ddof = 0):\n",
    "    if  not isinstance(x , np.ndarray):\n",
    "        x = np.array(x)\n",
    "    x_diff = x - mean_func(x)\n",
    "    return np.sqrt((np.sum(x_diff ** 2)) / (x.shape[0]-ddof))\n",
    "    \n",
    "l = np.array([6,7,5,7,7,8,7,6,9,7,4,10,6,8,8,9,5,6,4,8])\n",
    "print('Mean ',mean_func(l))\n",
    "print('Standard Deviation ',std_func(l))\n",
    "print('Mode ',mode_func(l)[0])\n",
    "print('Median',median_func(l))"
   ]
  },
  {
   "cell_type": "code",
   "execution_count": 16,
   "metadata": {},
   "outputs": [
    {
     "name": "stdout",
     "output_type": "stream",
     "text": [
      "Mean  6.85\n",
      "Standard Deviation  1.5898113095584647\n",
      "Mode  [7]\n",
      "Median 7.0\n"
     ]
    }
   ],
   "source": [
    "#using in numpy and scipy module\n",
    "\n",
    "print('Mean ',l.mean())\n",
    "print('Standard Deviation ',l.std(ddof = 0))\n",
    "print('Mode ',mode(l)[0])\n",
    "print('Median',np.median(l))"
   ]
  },
  {
   "cell_type": "markdown",
   "metadata": {},
   "source": [
    "Problem Statement 2:\n",
    "The number of calls from motorists per day for roadside service was recorded for a\n",
    "particular month:\\\n",
    "28, 122, 217, 130, 120, 86, 80, 90, 140, 120, 70, 40, 145, 113, 90, 68, 174, 194, 170,\n",
    "100, 75, 104, 97, 75,\n",
    "123, 100, 75, 104, 97, 75, 123, 100, 89, 120, 109"
   ]
  },
  {
   "cell_type": "code",
   "execution_count": 17,
   "metadata": {},
   "outputs": [
    {
     "name": "stdout",
     "output_type": "stream",
     "text": [
      "Mean  107.51428571428572\n",
      "Standard Deviation  38.77287080168403\n",
      "Mode  [75]\n",
      "Median 100\n"
     ]
    }
   ],
   "source": [
    "#Question 2\n",
    "\n",
    "x2 = np.array([28, 122, 217, 130, 120, 86, 80, 90, 140, 120, 70, 40, 145, 113, 90, 68, 174, 194, 170,\n",
    "100, 75, 104, 97, 75,123, 100, 75, 104, 97, 75, 123, 100, 89, 120, 109])\n",
    "\n",
    "print('Mean ',mean_func(x2))\n",
    "print('Standard Deviation ',std_func(x2))\n",
    "print('Mode ',mode_func(x2)[0])\n",
    "print('Median',median_func(x2))"
   ]
  },
  {
   "cell_type": "markdown",
   "metadata": {},
   "source": [
    "$x$ = An Outcome \\\n",
    "$\\mu = \\sum [{x.P(x)}]$\\\n",
    "$\\sigma ^2  =  \\sum[{(x - \\mu)^2 . P(x)}]$\\\n",
    "$P(x)$ = Probability of given outcome \\\n",
    "$\\mu $ = Mean \\\n",
    "$\\sigma $ = Standard Deviation \\\n",
    "$\\sigma^2 $ = Variance \n",
    "\n",
    "Problem Statement 3:\n",
    "The number of times I go to the gym in weekdays, are given below along with its\n",
    "associated probability:\\\n",
    "x = 0, 1, 2, 3, 4, 5\\\n",
    "f(x) = 0.09, 0.15, 0.40, 0.25, 0.10, 0.01 \\\n",
    "Calculate the mean no. of workouts in a week. Also evaluate the variance involved in\n",
    "it."
   ]
  },
  {
   "cell_type": "code",
   "execution_count": 50,
   "metadata": {},
   "outputs": [],
   "source": [
    "#Question 3\n",
    "\n",
    "d = {'x':[0,1,2,3,4,5],'P(x)':[0.09,0.15,0.40,0.25,0.10,0.01]}\n",
    "df = pd.DataFrame(data = d)\n",
    "df['xP(x)'] = df['x'] * df['P(x)']\n",
    "mu = df['xP(x)'].sum()\n",
    "df['(x - mu)^2 * P(x)'] = ((df['x'] - mu)**2) * df['P(x)']\n",
    "var = df['(x - mu)^2 * P(x)'].sum()\n"
   ]
  },
  {
   "cell_type": "code",
   "execution_count": 51,
   "metadata": {},
   "outputs": [
    {
     "name": "stdout",
     "output_type": "stream",
     "text": [
      "Mean  2.15\n",
      "Variance  1.2275\n"
     ]
    },
    {
     "data": {
      "text/html": [
       "<div>\n",
       "<style scoped>\n",
       "    .dataframe tbody tr th:only-of-type {\n",
       "        vertical-align: middle;\n",
       "    }\n",
       "\n",
       "    .dataframe tbody tr th {\n",
       "        vertical-align: top;\n",
       "    }\n",
       "\n",
       "    .dataframe thead th {\n",
       "        text-align: right;\n",
       "    }\n",
       "</style>\n",
       "<table border=\"1\" class=\"dataframe\">\n",
       "  <thead>\n",
       "    <tr style=\"text-align: right;\">\n",
       "      <th></th>\n",
       "      <th>x</th>\n",
       "      <th>P(x)</th>\n",
       "      <th>xP(x)</th>\n",
       "      <th>(x - mu)^2 * P(x)</th>\n",
       "    </tr>\n",
       "  </thead>\n",
       "  <tbody>\n",
       "    <tr>\n",
       "      <th>0</th>\n",
       "      <td>0</td>\n",
       "      <td>0.09</td>\n",
       "      <td>0.00</td>\n",
       "      <td>0.416025</td>\n",
       "    </tr>\n",
       "    <tr>\n",
       "      <th>1</th>\n",
       "      <td>1</td>\n",
       "      <td>0.15</td>\n",
       "      <td>0.15</td>\n",
       "      <td>0.198375</td>\n",
       "    </tr>\n",
       "    <tr>\n",
       "      <th>2</th>\n",
       "      <td>2</td>\n",
       "      <td>0.40</td>\n",
       "      <td>0.80</td>\n",
       "      <td>0.009000</td>\n",
       "    </tr>\n",
       "    <tr>\n",
       "      <th>3</th>\n",
       "      <td>3</td>\n",
       "      <td>0.25</td>\n",
       "      <td>0.75</td>\n",
       "      <td>0.180625</td>\n",
       "    </tr>\n",
       "    <tr>\n",
       "      <th>4</th>\n",
       "      <td>4</td>\n",
       "      <td>0.10</td>\n",
       "      <td>0.40</td>\n",
       "      <td>0.342250</td>\n",
       "    </tr>\n",
       "    <tr>\n",
       "      <th>5</th>\n",
       "      <td>5</td>\n",
       "      <td>0.01</td>\n",
       "      <td>0.05</td>\n",
       "      <td>0.081225</td>\n",
       "    </tr>\n",
       "  </tbody>\n",
       "</table>\n",
       "</div>"
      ],
      "text/plain": [
       "   x  P(x)  xP(x)  (x - mu)^2 * P(x)\n",
       "0  0  0.09   0.00           0.416025\n",
       "1  1  0.15   0.15           0.198375\n",
       "2  2  0.40   0.80           0.009000\n",
       "3  3  0.25   0.75           0.180625\n",
       "4  4  0.10   0.40           0.342250\n",
       "5  5  0.01   0.05           0.081225"
      ]
     },
     "execution_count": 51,
     "metadata": {},
     "output_type": "execute_result"
    }
   ],
   "source": [
    "print('Mean ',mu)\n",
    "print('Variance ',var)\n",
    "df"
   ]
  },
  {
   "cell_type": "markdown",
   "metadata": {},
   "source": [
    "$f(x) = 20e^{-20(x-12.5)} $\n",
    "\n",
    "$Calculating$ $ CDF $\n",
    "\n",
    "$F(k <= 12.6) = \\int_{12.5}^{12.6} 20 e^{-20(x-12.5)} dx$ \n",
    "\n",
    "$F(k > 12.6) = 1 - F(k <= 12.6) $\n",
    "\n",
    "Problem Statement 4 And Problem Statement 9:\n",
    "Let the continuous random variable D denote the diameter of the hole drilled in an\n",
    "aluminum sheet. The target diameter to be achieved is 12.5mm. Random\n",
    "disturbances in the process often result in inaccuracy.\n",
    "Historical data shows that the distribution of D can be modelled by the PDF (x) =\n",
    "20e−20(x−12.5), x ≥ 12.5. If a part with diameter > 12.6 mm needs to be scrapped,\n",
    "what is the proportion of those parts? What is the CDF when the diameter is of 11\n",
    "mm? What is your conclusion regarding the proportion of scraps?"
   ]
  },
  {
   "cell_type": "code",
   "execution_count": 20,
   "metadata": {},
   "outputs": [
    {
     "name": "stdout",
     "output_type": "stream",
     "text": [
      "0.13533528323662825\n"
     ]
    }
   ],
   "source": [
    "from scipy.integrate import quad\n",
    "m = lambda x : 20 * np.exp(-20*(x - 12.5))\n",
    "# find cdf of above function F(x <= 12.6)  \n",
    "area = quad(m,12.5,12.6)[0]\n",
    "#For F(x > 12.6) = 1 - F(x <= 12.6)\n",
    "area = 1-area\n",
    "\n",
    "print(area)\n",
    "\n",
    "# for function  x > 12.5 \n",
    "# for pdf 11  it is zero\n",
    "# Probablity of having 12.6 or more diameter is only 13.5% in Accordance to function "
   ]
  },
  {
   "cell_type": "markdown",
   "metadata": {},
   "source": [
    "$\\mu = n.p$ \\\n",
    "$\\sigma = \\sqrt{n.p.q}$\\\n",
    "$q = 1 -p$ \n",
    "\n",
    "Problem Statement 5:\n",
    "A company manufactures LED bulbs with a faulty rate of 30%. If I randomly select 6\n",
    "chosen LEDs, what is the probability of having 2 faulty LEDs in my sample?\n",
    "Calculate the average value of this process. Also evaluate the standard deviation\n",
    "associated with it."
   ]
  },
  {
   "cell_type": "code",
   "execution_count": 21,
   "metadata": {},
   "outputs": [
    {
     "name": "stdout",
     "output_type": "stream",
     "text": [
      "Mean  3.5999999999999996\n",
      "Standard Deviation  1.2\n"
     ]
    }
   ],
   "source": [
    "binom.pmf(n=6,p=0.6,k =2)\n",
    "\n",
    "print(\"Mean \",binom.mean(n=6,p=0.6))\n",
    "print(\"Standard Deviation \",binom.std(n=6,p=0.6))"
   ]
  },
  {
   "cell_type": "markdown",
   "metadata": {},
   "source": [
    "$$f(k) = \\binom{n}{k} p^k (1-p)^{n-k}$$\n",
    "\n",
    "Problem Statement 6:Gaurav and Barakha are both preparing for entrance exams. Gaurav attempts to\n",
    "solve 8 questions per day with a correction rate of 75%, while Barakha averages\n",
    "around 12 questions per day with a correction rate of 45%. What is the probability\n",
    "that each of them will solve 5 questions correctly? What happens in cases of 4 and 6\n",
    "correct solutions? What do you infer from it? What are the two main governing\n",
    "factors affecting their ability to solve questions correctly? Give a pictorial\n",
    "representation of the same to validate your answer."
   ]
  },
  {
   "cell_type": "code",
   "execution_count": 22,
   "metadata": {},
   "outputs": [
    {
     "name": "stdout",
     "output_type": "stream",
     "text": [
      "Gaurav 4 question correct P(4)  0.08651733398437506\n",
      "Barakha 4 question correct P(4)  0.16996393213605795\n",
      "Gaurav 5 question correct P(5) 0.20764160156250022\n",
      "Barakha 5 question correct P(5) 0.22249823843265792\n",
      "Gaurav 6 question correct P(6) 0.31146240234375017\n",
      "Barakha 6 question correct P(6) 0.21238468214026424\n"
     ]
    }
   ],
   "source": [
    "n1 = 8\n",
    "p1 = 0.75\n",
    "\n",
    "n2 = 12\n",
    "p2 = 0.45\n",
    "\n",
    "print(\"Gaurav 4 question correct P(4) \",binom.pmf(n = n1,p =p1,k=4))\n",
    "print(\"Barakha 4 question correct P(4) \",binom.pmf(n =n2,p = p2,k =4))\n",
    "\n",
    "print(\"Gaurav 5 question correct P(5)\",binom.pmf(n = n1,p =p1,k=5))\n",
    "print(\"Barakha 5 question correct P(5)\",binom.pmf(n =n2,p = p2,k =5))\n",
    "\n",
    "print(\"Gaurav 6 question correct P(6)\",binom.pmf(n = n1,p =p1,k=6))\n",
    "print(\"Barakha 6 question correct P(6)\",binom.pmf(n =n2,p = p2,k =6))"
   ]
  },
  {
   "cell_type": "code",
   "execution_count": 23,
   "metadata": {},
   "outputs": [],
   "source": [
    "import matplotlib.pyplot  as plt"
   ]
  },
  {
   "cell_type": "code",
   "execution_count": 24,
   "metadata": {},
   "outputs": [
    {
     "data": {
      "image/png": "[encoded data removed]",
      "text/plain": [
       "<Figure size 720x432 with 2 Axes>"
      ]
     },
     "metadata": {
      "needs_background": "light"
     },
     "output_type": "display_data"
    }
   ],
   "source": [
    "fig,ax = plt.subplots(nrows=1,ncols=2,figsize=(10,6))\n",
    "\n",
    "\n",
    "t2 = np.arange(0,11,1)\n",
    "m2 = binom.pmf(n=n2,p=p2,k = t2)\n",
    "\n",
    "ax[0].plot(t2,m2)\n",
    "f =  binom.pmf(n = n2,p =p2,k=4)\n",
    "f1 = binom.pmf(n = n2,p =p2,k=5)\n",
    "f2 = binom.pmf(n = n2,p =p2,k=6)\n",
    "\n",
    "ax[0].plot([4,4],[f,0],label='4')\n",
    "ax[0].plot([5,5],[f1,0],label='5')\n",
    "ax[0].plot([6,6],[f2,0],label='6')\n",
    "ax[0].title.set_text('12 average questions p=0.45')\n",
    "ax[0].legend()\n",
    "\n",
    "t1 = np.arange(0,11,1)\n",
    "m1 = binom.pmf(n=n1,p=p1,k = t1)\n",
    "\n",
    "ax[1].plot(t1,m1)\n",
    "q =  binom.pmf(n = n1,p =p1,k=4)\n",
    "q1 = binom.pmf(n = n1,p =p1,k=5)\n",
    "q2 = binom.pmf(n = n1,p =p1,k=6)\n",
    "\n",
    "ax[1].plot([4,4],[q,0],label='4')\n",
    "ax[1].plot([5,5],[q1,0],label ='5')\n",
    "ax[1].plot([6,6],[q2,0],label='6')\n",
    "ax[1].legend()\n",
    "ax[1].title.set_text('9 average questions p=0.75')\n",
    "plt.show()\n",
    "\n",
    "## for low no. of correct question(0,1,2,3,4,5 correct question) higher n(average no of questions) gives higher probability\n",
    "## but for high no. of correct question(6,7,8 correct questions) high the p gives higher probability\n",
    "## therefore depends on n and p"
   ]
  },
  {
   "cell_type": "markdown",
   "metadata": {},
   "source": [
    "$$P(x) = \\frac{\\lambda^x . e^{-\\lambda}}{x!}$$\n",
    "\n",
    "Problem Statement 7:\n",
    "Customers arrive at a rate of 72 per hour to my shop. What is the probability of x\n",
    "customers arriving in 4 minutes? a) 5 customers, b) not more than 3 customers, c)\n",
    "more than 3 customers. Give a pictorial representation of the same to validate your\n",
    "answer."
   ]
  },
  {
   "cell_type": "code",
   "execution_count": 34,
   "metadata": {},
   "outputs": [
    {
     "name": "stdout",
     "output_type": "stream",
     "text": [
      "P(x=5)  0.17474768364388296\n",
      "P(x<=3) 0.2942299164965642\n",
      "P(x>3) 0.7057700835034357\n"
     ]
    }
   ],
   "source": [
    "lam = 72 / 15\n",
    "\n",
    "#a\n",
    "m1 = poisson.pmf(k = 5,mu = lam)\n",
    "print(\"P(x=5) \",m1)\n",
    "#b\n",
    "m2 = poisson.cdf(k = 3,mu = lam)\n",
    "print(\"P(x<=3)\",m2)\n",
    "#c\n",
    "print(\"P(x>3)\",1 - m2)"
   ]
  },
  {
   "cell_type": "markdown",
   "metadata": {},
   "source": [
    "$$P(x) = \\frac{\\lambda^x . e^{-\\lambda}}{x!}$$\n",
    "\n",
    "Problem Statement 8:\n",
    "I work as a data analyst in Aeon Learning Pvt. Ltd. After analyzing data, I make\n",
    "reports, where I have the efficiency of entering 77 words per minute with 6 errors per\n",
    "hour. What is the probability that I will commit 2 errors in a 455-word financial report?\n",
    "What happens when the no. of words increases/decreases (in case of 1000 words,\n",
    "255 words\\\n",
    "How is the $\\lambda$ affected?\\\n",
    "How does it influence the PMF?\\\n",
    "Give a pictorial representation of the same to validate your answer."
   ]
  },
  {
   "cell_type": "code",
   "execution_count": null,
   "metadata": {},
   "outputs": [],
   "source": [
    "lam=lambda x : (6/(77*60)) * x\n",
    "\n",
    "m1 = poisson.pmf(k = 2,mu = lam(455))\n",
    "m2 = poisson.pmf(k = 2,mu = lam(255))\n",
    "m3 = poisson.pmf(k = 2,mu = lam(1000))\n",
    "print(\"2 Error with 455 word \"m1)\n",
    "print(\"2 Error with 255 word \"m2)\n",
    "print(\"2 Error with 1000 word \",m3)\n",
    "\n",
    "#lambda is affected and no. of words is directly proportional to lambda"
   ]
  },
  {
   "cell_type": "code",
   "execution_count": null,
   "metadata": {},
   "outputs": [],
   "source": [
    "fig ,ax = plt.subplots(nrows =1 ,ncols = 3 ,figsize=(12,6))\n",
    "x1 = np.arange(poisson.ppf(0.01,lam(1000)),poisson.ppf(0.99999,lam(1000)))\n",
    "y1 = poisson.pmf(k=x1,mu = lam(1000))\n",
    "ax[0].plot([2,2],[m3,0] , label='2 error')\n",
    "ax[0].plot(x1,y1)\n",
    "ax[0].title.set_text('1000 words')\n",
    "ax[0].legend()\n",
    "\n",
    "x2 = np.arange(poisson.ppf(0.01,lam(255)),poisson.ppf(0.99999,lam(255)))\n",
    "y2 = poisson.pmf(k=x2,mu = lam(255))\n",
    "ax[1].plot([2,2],[m2,0],label='2 error')\n",
    "ax[1].plot(x2,y2)\n",
    "ax[1].title.set_text('255 words')\n",
    "ax[1].legend()\n",
    "\n",
    "x3 = np.arange(poisson.ppf(0.01,lam(455)),poisson.ppf(0.99999,lam(455)))\n",
    "y3 = poisson.pmf(k=x3,mu = lam(455))\n",
    "ax[2].plot([2,2],[m1,0],label='2 error')\n",
    "ax[2].plot(x3,y3)\n",
    "ax[2].title.set_text('455 words')\n",
    "ax[2].legend()\n",
    "plt.show()\n",
    "\n",
    "# words increases, probabilty of occurring of error increases \n",
    "# lambda is effected by words and it is directly proportional to it"
   ]
  },
  {
   "cell_type": "markdown",
   "metadata": {},
   "source": [
    "Problem Statement 10:\n",
    "Please compute the following:\n",
    "1. P(Z > 1.26), P(Z < −0.86), P(Z > −1.37), P(−1.25 < Z < 0.37), . P(Z ≤ −4.6)\n",
    "2. Find the value z such that P(Z > z) = 0.05\n",
    "3. Find the value of z such that p(−z < Z < z) = 0.99\n"
   ]
  },
  {
   "cell_type": "code",
   "execution_count": 26,
   "metadata": {},
   "outputs": [
    {
     "name": "stdout",
     "output_type": "stream",
     "text": [
      "P(Z> 1.26)  0.1038346811213004\n",
      "P(Z < -0.86)  0.1948945212518084\n",
      "P(Z > −1.37)  0.914656549178033\n",
      "P(−1.25 < Z < 0.37)  0.5386589811336914\n",
      "P(Z ≤ −4.6)  2.1124547025028537e-06\n",
      "P(Z >z)=0.05: z =  1.6448536269514729 or 1.6448536269514722\n"
     ]
    }
   ],
   "source": [
    "n = norm(loc = 0 , scale =1)\n",
    "\n",
    "print(\"P(Z> 1.26) \",n.sf(1.26))\n",
    "\n",
    "\n",
    "print(\"P(Z < -0.86) \",n.cdf(-.86))\n",
    "\n",
    "print(\"P(Z > −1.37) \",n.sf(-1.37))\n",
    "\n",
    "print(\"P(−1.25 < Z < 0.37) \",n.cdf(0.37) - n.cdf(-1.25))\n",
    "\n",
    "print(\"P(Z ≤ −4.6) \",n.cdf(-4.6))\n",
    "\n",
    "print(\"P(Z >z)=0.05: z = \",n.isf(0.05),\"or\",n.ppf(1-0.05))"
   ]
  },
  {
   "cell_type": "code",
   "execution_count": 30,
   "metadata": {},
   "outputs": [
    {
     "name": "stdout",
     "output_type": "stream",
     "text": [
      "Value of z =  2.5758293035489004\n"
     ]
    },
    {
     "data": {
      "text/plain": [
       "0.99"
      ]
     },
     "execution_count": 30,
     "metadata": {},
     "output_type": "execute_result"
    }
   ],
   "source": [
    "#Find the value of z such that p(−z < Z < z) = 0.99\n",
    "# p(−z < Z < z) == 2 * p(0 < Z < z) == 0.99\n",
    "# p(0 < Z < z) = P(Z<z) - P(Z <0) since P(Z<0) == 0.5\n",
    "m = (0.99 / 2) + 0.5\n",
    "z = n.ppf(m)\n",
    "print(\"Value of z = \",z)\n",
    "#p(−z < Z < z) \n",
    "#validation\n",
    "n.cdf(z) - n.cdf(-z)\n"
   ]
  },
  {
   "cell_type": "markdown",
   "metadata": {},
   "source": [
    "Problem Statement 11:\n",
    "The current flow in a copper wire follow a normal distribution with a mean of 10 mA\n",
    "and a variance of 4 (mA)2.\\\n",
    "What is the probability that a current measurement will exceed 13 mA?\\\n",
    "What is the probability that a current measurement is between 9 and 11mA? \\\n",
    "Determine the current measurement which has a probability of 0.98."
   ]
  },
  {
   "cell_type": "code",
   "execution_count": 31,
   "metadata": {},
   "outputs": [],
   "source": [
    "def getZscore(x_bar,mu,st,n=1):\n",
    "    return (x_bar - mu)/(st/(n**0.5))"
   ]
  },
  {
   "cell_type": "code",
   "execution_count": 33,
   "metadata": {},
   "outputs": [
    {
     "name": "stdout",
     "output_type": "stream",
     "text": [
      "P(X>13) 0.06680720126885807\n",
      "P(9<X<11)  0.38292492254802624\n",
      "Current which has a probability of 0.98  14.107497821263646 mA\n"
     ]
    }
   ],
   "source": [
    "#\n",
    "mu = 10\n",
    "st = 4**0.5\n",
    "print(\"P(X>13)\",n.sf(getZscore(13,10,2)))\n",
    "\n",
    "print(\"P(9<X<11) \",n.cdf(getZscore(11,10,2))-n.cdf(getZscore(9,10,2)))\n",
    "\n",
    "#  get zscore from area 0.98\n",
    "z = n.ppf(0.98)\n",
    "print(\"Current which has a probability of 0.98 \",z * st + mu,\"mA\")"
   ]
  },
  {
   "cell_type": "markdown",
   "metadata": {},
   "source": [
    "Problem Statement 12:\n",
    "The shaft in a piston has its diameter normally distributed with a mean of 0.2508 inch\n",
    "and a standard deviation of 0.0005 inch. The specifications of the shaft are 0.2500 ∓\n",
    "0.0015 inch. What proportion of shafts are in sync with the specifications? If the\n",
    "process is centered so that the mean is equal to the target value of 0.2500, what\n",
    "proportion of shafts conform to the new specifications? What is your conclusion from\n",
    "this experiment?"
   ]
  },
  {
   "cell_type": "code",
   "execution_count": 35,
   "metadata": {},
   "outputs": [
    {
     "name": "stdout",
     "output_type": "stream",
     "text": [
      "0.91924122831152\n",
      "0.9973002039367398\n"
     ]
    }
   ],
   "source": [
    "def getZscore(x_bar,mu,st,n=1):\n",
    "    return (x_bar - mu)/(st/(n**0.5))\n",
    "\n",
    "upp,low=0.2500 + 0.0015 ,0.2500  - 0.0015\n",
    "\n",
    "mu = 0.2508\n",
    "st = 0.0005\n",
    "\n",
    "print(n.cdf(getZscore(upp,mu,st)) - n.cdf(getZscore(low,mu,st)))\n",
    "\n",
    "# if mu == 0.2500\n",
    "mu2 = 0.2500\n",
    "print(n.cdf(getZscore(upp,mu2,st)) - n.cdf(getZscore(low,mu2,st)))\n",
    "\n",
    "# when mean is '0.2508' then proportion of shafts with appropriate specification is less because mean is near to upper limit\n",
    "#where as when mean is 0.2500 it is prefectly in middle therefore proportion is higher than above mean."
   ]
  },
  {
   "cell_type": "markdown",
   "metadata": {},
   "source": [
    "# Problem Statement 4 and 9 are repeated in assignment so I Have done it only One time "
   ]
  },
  {
   "cell_type": "code",
   "execution_count": null,
   "metadata": {},
   "outputs": [],
   "source": []
  }
 ],
 "metadata": {
  "kernelspec": {
   "display_name": "Python 3",
   "language": "python",
   "name": "python3"
  },
  "language_info": {
   "codemirror_mode": {
    "name": "ipython",
    "version": 3
   },
   "file_extension": ".py",
   "mimetype": "text/x-python",
   "name": "python",
   "nbconvert_exporter": "python",
   "pygments_lexer": "ipython3",
   "version": "3.7.7"
  }
 },
 "nbformat": 4,
 "nbformat_minor": 4
}
