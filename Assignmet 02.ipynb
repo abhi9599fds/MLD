{
 "cells": [
  {
   "cell_type": "markdown",
   "metadata": {},
   "source": [
    "Task 1.1\n",
    "\n",
    "\n",
    "Question 1.1: Write a Python Program to implement your own myreduce() function which works exactly like\n",
    "Python's built-in function reduce()\n"
   ]
  },
  {
   "cell_type": "code",
   "execution_count": 2,
   "metadata": {},
   "outputs": [
    {
     "name": "stdout",
     "output_type": "stream",
     "text": [
      "28\n",
      "abcde\n"
     ]
    }
   ],
   "source": [
    "# 1.1\n",
    "#This function should work for only homogenous array only\n",
    "def myReduce(funct, itr):\n",
    "    if isinstance(itr[0],str):\n",
    "        res =\"\"\n",
    "    else :\n",
    "        res = 0\n",
    "    # \"try catch\" for odd number elements in the list\n",
    "    try:\n",
    "        for i in range(0,len(itr),2):\n",
    "            res +=  funct(itr[i],itr[i+1])\n",
    "    except IndexError :\n",
    "        res = funct(res ,itr[i])\n",
    "    except TypeError:\n",
    "        print(\"Type Error Happen\")\n",
    "    except:\n",
    "        print(\"Some other Exception happen\")\n",
    "    return res\n",
    "li = [1,2,3,4,5,6,7]\n",
    "str_li = ['a','b','c','d','e']\n",
    "#sr = ['a',223,334,'dc']\n",
    "a = lambda a,b : a+b\n",
    "print(myReduce(a,li))\n",
    "print(myReduce(a,str_li))"
   ]
  },
  {
   "cell_type": "markdown",
   "metadata": {},
   "source": [
    "Question 1.2\n",
    "Write a Python program to implement your own myfilter() function which works exactly like\n",
    "Python's built-in function filter()"
   ]
  },
  {
   "cell_type": "code",
   "execution_count": 4,
   "metadata": {},
   "outputs": [],
   "source": [
    "#1.2\n",
    "def myFilter(func , itr):\n",
    "    res = []\n",
    "    try:\n",
    "        for i in range(0,len(itr)):\n",
    "            if func(itr[i]):\n",
    "                res.append(itr[i])\n",
    "    except :\n",
    "        print(\"Error Happen\")\n",
    "    return res"
   ]
  },
  {
   "cell_type": "code",
   "execution_count": 8,
   "metadata": {},
   "outputs": [
    {
     "name": "stdout",
     "output_type": "stream",
     "text": [
      "Error Happen\n",
      "[]\n",
      "[1, 4]\n"
     ]
    }
   ],
   "source": [
    "li = [1,23,34,4]\n",
    "a = lambda a: a < 10\n",
    "\n",
    "print(myFilter(a,str_li))\n",
    "\n",
    "print(myFilter(a,li))"
   ]
  },
  {
   "cell_type": "markdown",
   "metadata": {},
   "source": [
    "Question 2.\n",
    "Implement List comprehensions to produce the following lists.\n",
    "Write List comprehensions to produce the following Lists\n",
    "['A', 'C', 'A', 'D', 'G', 'I', ’L’, ‘ D’]\n",
    "['x', 'xx', 'xxx', 'xxxx', 'y', 'yy', 'yyy', 'yyyy', 'z', 'zz', 'zzz', 'zzzz']\n",
    "['x', 'y', 'z', 'xx', 'yy', 'zz', 'xxx', 'yyy', 'zzz', 'xxxx', 'yyyy', 'zzzz']\n",
    "[[2], [3], [4], [3], [4], [5], [4], [5], [6]]\n",
    "[[2, 3, 4, 5], [3, 4, 5, 6], [4, 5, 6, 7], [5, 6, 7, 8]]\n",
    "[(1, 1), (2, 1), (3, 1), (1, 2), (2, 2), (3, 2), (1, 3), (2, 3), (3, 3)]\n"
   ]
  },
  {
   "cell_type": "code",
   "execution_count": 21,
   "metadata": {},
   "outputs": [],
   "source": [
    "m1 = [[i+j] for i in range(2,5)for j in range(0,3) ]\n",
    "m2 = [[ j + k for j in[i for i in range(2,6)]] for k in range(0,4)]\n",
    "st = 'ACADGILD'\n",
    "m3 = [i for i in st]\n",
    "st2 = 'xyz'\n",
    "m4 = [j*i for j in st2 for i in range(1,5)]\n",
    "m5 = [i*j for j in range(1,5) for i in st2]\n",
    "m6 = [(j,i) for i in range(1,4) for j in range(1,4)]"
   ]
  },
  {
   "cell_type": "code",
   "execution_count": 22,
   "metadata": {},
   "outputs": [
    {
     "data": {
      "text/plain": [
       "[[2], [3], [4], [3], [4], [5], [4], [5], [6]]"
      ]
     },
     "execution_count": 22,
     "metadata": {},
     "output_type": "execute_result"
    }
   ],
   "source": [
    "m1"
   ]
  },
  {
   "cell_type": "code",
   "execution_count": 23,
   "metadata": {},
   "outputs": [
    {
     "data": {
      "text/plain": [
       "[[2, 3, 4, 5], [3, 4, 5, 6], [4, 5, 6, 7], [5, 6, 7, 8]]"
      ]
     },
     "execution_count": 23,
     "metadata": {},
     "output_type": "execute_result"
    }
   ],
   "source": [
    "m2"
   ]
  },
  {
   "cell_type": "code",
   "execution_count": 24,
   "metadata": {},
   "outputs": [
    {
     "data": {
      "text/plain": [
       "['A', 'C', 'A', 'D', 'G', 'I', 'L', 'D']"
      ]
     },
     "execution_count": 24,
     "metadata": {},
     "output_type": "execute_result"
    }
   ],
   "source": [
    "m3"
   ]
  },
  {
   "cell_type": "code",
   "execution_count": 25,
   "metadata": {},
   "outputs": [
    {
     "data": {
      "text/plain": [
       "['x', 'xx', 'xxx', 'xxxx', 'y', 'yy', 'yyy', 'yyyy', 'z', 'zz', 'zzz', 'zzzz']"
      ]
     },
     "execution_count": 25,
     "metadata": {},
     "output_type": "execute_result"
    }
   ],
   "source": [
    "m4"
   ]
  },
  {
   "cell_type": "code",
   "execution_count": 26,
   "metadata": {},
   "outputs": [
    {
     "data": {
      "text/plain": [
       "['x', 'y', 'z', 'xx', 'yy', 'zz', 'xxx', 'yyy', 'zzz', 'xxxx', 'yyyy', 'zzzz']"
      ]
     },
     "execution_count": 26,
     "metadata": {},
     "output_type": "execute_result"
    }
   ],
   "source": [
    "m5"
   ]
  },
  {
   "cell_type": "code",
   "execution_count": 27,
   "metadata": {},
   "outputs": [
    {
     "data": {
      "text/plain": [
       "[(1, 1), (2, 1), (3, 1), (1, 2), (2, 2), (3, 2), (1, 3), (2, 3), (3, 3)]"
      ]
     },
     "execution_count": 27,
     "metadata": {},
     "output_type": "execute_result"
    }
   ],
   "source": [
    "m6"
   ]
  },
  {
   "cell_type": "markdown",
   "metadata": {},
   "source": [
    "Question 3 :Implement a function longestWord() that takes a list of words and returns the longest one."
   ]
  },
  {
   "cell_type": "code",
   "execution_count": 28,
   "metadata": {},
   "outputs": [
    {
     "name": "stdout",
     "output_type": "stream",
     "text": [
      "wferferff\n"
     ]
    }
   ],
   "source": [
    "#return first longest string from list\n",
    "def longestWord(li):\n",
    "    m = len(li[0])\n",
    "    st = li[0]\n",
    "    for i in range(1,len(li)):\n",
    "        if len(li[i]) > m:\n",
    "            m = len(li[i])\n",
    "            st = li[i]\n",
    "    return st\n",
    "li = ['abcd','wferferff','dfdf','fefeferf','fefeed']\n",
    "print(longestWord(li))"
   ]
  },
  {
   "cell_type": "raw",
   "metadata": {},
   "source": [
    "Task 2"
   ]
  },
  {
   "cell_type": "markdown",
   "metadata": {},
   "source": [
    "1.1\n",
    "Write a Python Program(with class concepts) to find the area of the triangle using the below\n",
    "formula.\n",
    "area = (s*(s-a)*(s-b)*(s-c)) ** 0.5\n",
    "Function to take the length of the sides of triangle from user should be defined in the parent\n",
    "class and function to calculate the area should be defined in subclass."
   ]
  },
  {
   "cell_type": "code",
   "execution_count": 29,
   "metadata": {},
   "outputs": [],
   "source": [
    "class Shape :\n",
    "    def __init__(self):\n",
    "        self.a = 0\n",
    "        self.b = 0\n",
    "        self.c = 0\n",
    "        self.p = 0\n",
    "    def setSide(self,a,b,c):\n",
    "        try :\n",
    "            #This for getting correct side for triangle\n",
    "            if a + b < c or a + c < b or b + c < a :\n",
    "                 raise Exception(\"Sides of Triangle not right\")\n",
    "            self.a = a\n",
    "            self.b = b\n",
    "            self.c = c\n",
    "            self.p = (a + b + c)/2\n",
    "        except Exception as err:\n",
    "            print(err)\n",
    "\n",
    "class Triangle(Shape):\n",
    "    def __init__(self):\n",
    "        super().__init__()\n",
    "    def getParameter(self):\n",
    "        return self.p *2 \n",
    "    def getArea(self):\n",
    "        return (self.p *(self.p-self.a) * (self.p - self.b) *(self.p - self.c))**0.5"
   ]
  },
  {
   "cell_type": "code",
   "execution_count": 30,
   "metadata": {},
   "outputs": [
    {
     "name": "stdout",
     "output_type": "stream",
     "text": [
      "Enter three sides in number 14,34,50\n",
      "invalid literal for int() with base 10: '14,34,50'\n",
      "Enter three sides in number 3 4 5\n",
      "6.0\n"
     ]
    }
   ],
   "source": [
    "t1=Triangle()\n",
    "# This Loop for not to  get invaild values for sides\n",
    "while(True):\n",
    "    try :\n",
    "        sides = list(map(lambda a : int(a), input(\"Enter three sides in number \").split(\" \")))\n",
    "        if len(sides) == 3:\n",
    "            break\n",
    "        else:\n",
    "            print(\"Enter 3 sides \")\n",
    "    except Exception as err:\n",
    "        print(err)\n",
    "t1.setSide(sides[0],sides[1],sides[2])\n",
    "print(t1.getArea())"
   ]
  },
  {
   "cell_type": "markdown",
   "metadata": {},
   "source": [
    "1.2\n",
    "Write a function filter_long_words() that takes a list of words and an integer n and returns the list\n",
    "of words that are longer than n."
   ]
  },
  {
   "cell_type": "code",
   "execution_count": 153,
   "metadata": {},
   "outputs": [
    {
     "name": "stdout",
     "output_type": "stream",
     "text": [
      "['wferferff', 'fefeferf', 'fefeed']\n"
     ]
    }
   ],
   "source": [
    "def filter_long_words(ls , num):\n",
    "    res = list(filter(lambda a : len(a) > num, ls))\n",
    "    return res\n",
    "li = ['abcd','wferferff','dfdf','fefeferf','fefeed']\n",
    "num = 4\n",
    "print(filter_long_words(li,num))"
   ]
  },
  {
   "cell_type": "markdown",
   "metadata": {},
   "source": [
    "2.1\n",
    "Write a Python program using function concept that maps list of words into a list of integers\n",
    "representing the lengths of the corresponding words.\n",
    "Hint: If a list [ ab,cde,erty] is passed on to the python function output should come as [2,3,4]\n",
    "Here 2,3 and 4 are the lengths of the words in the list."
   ]
  },
  {
   "cell_type": "code",
   "execution_count": 154,
   "metadata": {},
   "outputs": [
    {
     "name": "stdout",
     "output_type": "stream",
     "text": [
      "[4, 9, 4, 8, 6]\n"
     ]
    }
   ],
   "source": [
    "def string_to_length(ls):\n",
    "    res = list(map(lambda a :len(a),ls))\n",
    "    return res\n",
    "li = ['abcd','wferferff','dfdf','fefeferf','fefeed']\n",
    "print(string_to_length(li))"
   ]
  },
  {
   "cell_type": "markdown",
   "metadata": {},
   "source": [
    "2.2 Here 2,3 and 4 are the lengths of the words in the list.2.2\n",
    "Write a Python function which takes a character (i.e. a string of length 1) and returns True if it is\n",
    "a vowel, False otherwise."
   ]
  },
  {
   "cell_type": "code",
   "execution_count": 31,
   "metadata": {},
   "outputs": [],
   "source": [
    "def identifyVowel(st):\n",
    "    if st.upper() in ['A','E','I','O','U']:\n",
    "        return True\n",
    "    return False"
   ]
  },
  {
   "cell_type": "code",
   "execution_count": 32,
   "metadata": {},
   "outputs": [
    {
     "name": "stdout",
     "output_type": "stream",
     "text": [
      "Enter Character a\n",
      "True\n"
     ]
    }
   ],
   "source": [
    "ch = input(\"Enter Character \")\n",
    "print(identifyVowel(ch))"
   ]
  },
  {
   "cell_type": "code",
   "execution_count": 33,
   "metadata": {},
   "outputs": [
    {
     "name": "stdout",
     "output_type": "stream",
     "text": [
      "Enter Character b\n",
      "False\n"
     ]
    }
   ],
   "source": [
    "ch = input(\"Enter Character \")\n",
    "print(identifyVowel(ch))"
   ]
  },
  {
   "cell_type": "code",
   "execution_count": null,
   "metadata": {},
   "outputs": [],
   "source": []
  }
 ],
 "metadata": {
  "kernelspec": {
   "display_name": "Python 3",
   "language": "python",
   "name": "python3"
  },
  "language_info": {
   "codemirror_mode": {
    "name": "ipython",
    "version": 3
   },
   "file_extension": ".py",
   "mimetype": "text/x-python",
   "name": "python",
   "nbconvert_exporter": "python",
   "pygments_lexer": "ipython3",
   "version": "3.7.1"
  }
 },
 "nbformat": 4,
 "nbformat_minor": 2
}
