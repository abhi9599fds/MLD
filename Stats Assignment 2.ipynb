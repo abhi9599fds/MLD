{
 "cells": [
  {
   "cell_type": "markdown",
   "metadata": {},
   "source": [
    "1. H0 : $\\mu$ = 25 , H1 : $\\mu$ != 25\n",
    "2. H0 : $\\sigma$ > 10 , H1 : $\\sigma$ = 10\n",
    "3. H0 : $\\bar{x}$ = 50 , H1 : $\\bar{x}$ != 50\n",
    "4. H0 : $p$ = 0.1 , H1 : $p$ = 0.5\n",
    "5. H0 : $s$ = 30 , H1 : $s$ > 30"
   ]
  },
  {
   "cell_type": "markdown",
   "metadata": {},
   "source": [
    "1. Correct hypothesis Two tail test.\n",
    "2. Incorrect null hypothesis should have equal to 10 for testing\n",
    "3. Incorrect since can't use for statistic (sample parameters).\n",
    "4. Incorrect since alternative hyptothesis can't prove greater aur less than (that is one tail test).\n",
    "5. Incorrect it is a sample parameter can't be used for hypothesis tesitng.\n"
   ]
  },
  {
   "cell_type": "markdown",
   "metadata": {},
   "source": [
    "Problem Statement 2:\n",
    "The college bookstore tells prospective students that the average cost of its\n",
    "textbooks is Rs. 52 with a standard deviation of Rs. 4.50. A group of smart statistics\n",
    "students thinks that the average cost is higher. To test the bookstore’s claim against\n",
    "their alternative, the students will select a random sample of size 100. Assume that\n",
    "the mean from their random sample is Rs. 52.80. Perform a hypothesis test at the\n",
    "5% level of significance and state your decision."
   ]
  },
  {
   "cell_type": "code",
   "execution_count": 1,
   "metadata": {},
   "outputs": [
    {
     "name": "stdout",
     "output_type": "stream",
     "text": [
      "1.7777777777777715\n",
      "0.03772017981340073\n"
     ]
    }
   ],
   "source": [
    "from scipy.stats import norm, chi2, t\n",
    "import numpy as np\n",
    "#2 h0 ->  avg cost = 52 ,h1 avg cost > 52.80\n",
    "mu = 52\n",
    "stg = 4.50\n",
    "n = 100\n",
    "x_bar = 52.80\n",
    "z = (x_bar - mu)/(stg/(n)**0.5)\n",
    "print(z)\n",
    "print(norm.sf(z))# Rejected the null hypothesis so conclude cost is higher\n",
    " "
   ]
  },
  {
   "cell_type": "markdown",
   "metadata": {},
   "source": [
    "Problem Statement 3:\n",
    "A certain chemical pollutant in the Genesee River has been constant for several\n",
    "years with mean μ = 34 ppm (parts per million) and standard deviation σ = 8 ppm. A\n",
    "group of factory representatives whose companies discharge liquids into the river is\n",
    "now claiming that they have lowered the average with improved filtration devices. A\n",
    "group of environmentalists will test to see if this is true at the 1% level of\n",
    "significance. Assume that their sample of size 50 gives a mean of 32.5 ppm.\n",
    "Perform a hypothesis test at the 1% level of significance and state your decision."
   ]
  },
  {
   "cell_type": "code",
   "execution_count": 2,
   "metadata": {},
   "outputs": [
    {
     "name": "stdout",
     "output_type": "stream",
     "text": [
      "-1.3258252147247767\n",
      "0.0924487994828001\n"
     ]
    }
   ],
   "source": [
    "#3 h0 : avg = 34 h1: avg < 34\n",
    "mu = 34\n",
    "stg = 8\n",
    "\n",
    "n =50\n",
    "x_bar = 32.5\n",
    "\n",
    "z = (x_bar - mu)/(stg/(n)**0.5)\n",
    "print(z)\n",
    "print(norm.cdf(z)) #fail to rejected H0 ,there no reduction in levels\n"
   ]
  },
  {
   "cell_type": "markdown",
   "metadata": {},
   "source": [
    "Problem Statement 4:\n",
    "Based on population figures and other general information on the U.S. population,\n",
    "suppose it has been estimated that, on average, a family of four in the U.S. spends\n",
    "about $1135 annually on dental expenditures. Suppose further that a regional dental\n",
    "association wants to test to determine if this figure is accurate for their area of\n",
    "country. To test this, 22 families of 4 are randomly selected from the population in\n",
    "that area of the country and a log is kept of the family’s dental expenditure for one\n",
    "year. The resulting data are given below. Assuming, that dental expenditure is\n",
    "normally distributed in the population, use the data and an alpha of 0.5 to test the\n",
    "dental association’s hypothesis.\\\n",
    "1008, 812, 1117, 1323, 1308, 1415, 831, 1021, 1287, 851, 930, 730, 699,\n",
    "872, 913, 944, 954, 987, 1695, 995, 1003, 994"
   ]
  },
  {
   "cell_type": "code",
   "execution_count": 3,
   "metadata": {},
   "outputs": [
    {
     "name": "stdout",
     "output_type": "stream",
     "text": [
      "0.0559738319464585\n"
     ]
    }
   ],
   "source": [
    "#4 h0: avg=1135 h1: avg != 1135, alpha = 0.05\n",
    "mu = 1135\n",
    "n = 22\n",
    "arr = np.array([1008, 812, 1117, 1323, 1308, 1415, 831, 1021, 1287, 851, 930,\n",
    "                730, 699, 872, 913, 944, 954, 987, 1695, 995, 1003, 994])\n",
    "x_bar = arr.mean()\n",
    "s = arr.std(ddof =1) # n-1 \n",
    "\n",
    "t1 = (x_bar - mu)/(s/(n)**0.5)\n",
    "p_val = 2 * t.cdf(t1,df=n-1)\n",
    "print(p_val) # fail to reject the H0\n"
   ]
  },
  {
   "cell_type": "markdown",
   "metadata": {},
   "source": [
    "Problem Statement 5:\n",
    "In a report prepared by the Economic Research Department of a major bank the\n",
    "Department manager maintains that the average annual family income on Metropolis\n",
    "is \\$48,432. What do you conclude about the validity of the report if a random sample\n",
    "of 400 families shows and average income of \\\\$48,574 with a standard deviation of\n",
    "2000?"
   ]
  },
  {
   "cell_type": "code",
   "execution_count": 4,
   "metadata": {},
   "outputs": [
    {
     "name": "stdout",
     "output_type": "stream",
     "text": [
      "0.15560768105309275\n"
     ]
    }
   ],
   "source": [
    "#5 H0 : avg = 48432 H1 : avg != 48432\n",
    "\n",
    "mu = 48432\n",
    "n = 400\n",
    "x_bar = 48574\n",
    "s = 2000\n",
    "\n",
    "z = (x_bar - mu)/(s/(n)**0.5)\n",
    "p_val= norm.sf(z) * 2\n",
    "print(p_val) #fail to reject the H0,therefore avg is 48432\n"
   ]
  },
  {
   "cell_type": "markdown",
   "metadata": {},
   "source": [
    "Problem Statement 6:\n",
    "Suppose that in past years the average price per square foot for warehouses in the\n",
    "United States has been \\$32.28. A national real estate investor wants to determine\n",
    "whether that figure has changed now. The investor hires a researcher who randomly\n",
    "samples 19 warehouses that are for sale across the United States and finds that the\n",
    "mean price per square foot is \\\\$31.67, with a standard deviation of \\\\\\$1.29. assume\n",
    "that the prices of warehouse footage are normally distributed in population. If the\n",
    "researcher uses a 5% level of significance, what statistical conclusion can be\n",
    "reached? What are the hypotheses?"
   ]
  },
  {
   "cell_type": "code",
   "execution_count": 5,
   "metadata": {},
   "outputs": [
    {
     "name": "stdout",
     "output_type": "stream",
     "text": [
      "0.0540335291599721\n",
      "T statstic after calculation  -2.06118477175179\n",
      "Tvalue at 0.025 -2.10092204024096\n"
     ]
    }
   ],
   "source": [
    "#6 \n",
    "#h0 : avg price == $32.28\n",
    "#h1 : avg price != $32.28\n",
    "mu = 32.28\n",
    "n = 19\n",
    "x_bar = 31.67\n",
    "s = 1.29\n",
    "t1 = (x_bar - mu)/(s/(n)**0.5)\n",
    "p_val =  2 *t.cdf(t1,df= n-1)\n",
    "print(p_val ) #fail to reject\n",
    "print(\"T statstic after calculation \", t1)\n",
    "\n",
    "# for 2 tail test t score of 0.05 is  0.025 and 0.025\n",
    "#  - 2.06 > 2.10 therefore not in rejection region\n",
    "print('Tvalue at 0.025',t.ppf(0.025,18))# fail to reject NUll hypothesis there fore no change in prices\n"
   ]
  },
  {
   "cell_type": "markdown",
   "metadata": {},
   "source": [
    "Problem Statement 7 :Fill the Blank space in the table\n",
    "\n",
    "|Acceptance region | sample size | $\\alpha$ | $\\beta$ at $\\mu$ = 50|$\\beta$ at $\\mu$ = 52.5| \n",
    "|-- | -- | -- | -- | -- |\n",
    "|48.5 < $\\bar{x}$ < 51.5 |10 | | | |\n",
    "|48 < $\\bar{x}$ < 52 | 10| | | |\n",
    "|48.81 < $\\bar{x}$ < 51.9 |16 | | | |\n",
    "|48.42 < $\\bar{x}$ < 51.58 | 16| | | |"
   ]
  },
  {
   "cell_type": "code",
   "execution_count": 6,
   "metadata": {},
   "outputs": [],
   "source": [
    "\n",
    "# Since population Standard deviation  is not given in question so I assumed it to be 4 you can change sigma \n",
    "\n",
    "#change only this \n",
    "stg = 4\n",
    "\n",
    "z1 = lambda x : norm.cdf((x[1] - 52)/(stg / (10)**0.5)) - norm.cdf((x[0] - 52)/(stg / (10)**0.5))\n",
    "z2 = lambda x : norm.cdf((x[1] - 50.5)/(stg / (10)**0.5)) - norm.cdf((x[0] - 50.5) / (stg / (10)**0.5))\n",
    "\n",
    "z3 = lambda x :norm.cdf((x[1] - 52)/(stg / (16)**0.5)) - norm.cdf((x[0] - 52)/(stg / (16)**0.5))\n",
    "z4 = lambda x :norm.cdf((x[1] - 50.5)/(stg / (16)**0.5)) - norm.cdf((x[0] - 50.5)/(stg / (16)**0.5))\n",
    "\n",
    "z5 = lambda x :1 -( norm.cdf((x[1] - 50)/(stg / (10)**0.5)) - norm.cdf((x[0] - 50)/(stg / (10)**0.5)))\n",
    "z6 = lambda x :1 -( norm.cdf((x[1] - 50)/(stg / (16)**0.5)) - norm.cdf((x[0] - 50)/(stg / (16)**0.5)))\n",
    "\n",
    "l1 = [(48.5,51.5), (48,52)]\n",
    "l2 = [(48.81,51.19), (48.42,51.58)]\n",
    "\n",
    "al1 = list(map(z5 ,l1))\n",
    "al2 = list(map(z6 ,l2))\n",
    "\n",
    "\n",
    "m1 = list(map(z1 ,l1))\n",
    "m2 = list(map(z2 ,l1))\n",
    "\n",
    "m3 = list(map(z3 ,l2))\n",
    "m4 = list(map(z4 ,l2))\n",
    "\n",
    "al1.extend(al2)\n",
    "m1.extend(m3)\n",
    "m2.extend(m4)\n",
    "l1.extend(l2)\n",
    "import pandas as pd\n",
    "df = pd.DataFrame()"
   ]
  },
  {
   "cell_type": "code",
   "execution_count": 7,
   "metadata": {},
   "outputs": [
    {
     "data": {
      "text/html": [
       "<div>\n",
       "<style scoped>\n",
       "    .dataframe tbody tr th:only-of-type {\n",
       "        vertical-align: middle;\n",
       "    }\n",
       "\n",
       "    .dataframe tbody tr th {\n",
       "        vertical-align: top;\n",
       "    }\n",
       "\n",
       "    .dataframe thead th {\n",
       "        text-align: right;\n",
       "    }\n",
       "</style>\n",
       "<table border=\"1\" class=\"dataframe\">\n",
       "  <thead>\n",
       "    <tr style=\"text-align: right;\">\n",
       "      <th></th>\n",
       "      <th>Values</th>\n",
       "      <th>Sample Size</th>\n",
       "      <th>Alpha</th>\n",
       "      <th>Beta at mu =50.5</th>\n",
       "      <th>Beta at mu =52</th>\n",
       "    </tr>\n",
       "  </thead>\n",
       "  <tbody>\n",
       "    <tr>\n",
       "      <th>0</th>\n",
       "      <td>(48.5, 51.5)</td>\n",
       "      <td>10</td>\n",
       "      <td>0.235680</td>\n",
       "      <td>0.728479</td>\n",
       "      <td>0.343488</td>\n",
       "    </tr>\n",
       "    <tr>\n",
       "      <th>1</th>\n",
       "      <td>(48, 52)</td>\n",
       "      <td>10</td>\n",
       "      <td>0.113846</td>\n",
       "      <td>0.858107</td>\n",
       "      <td>0.499217</td>\n",
       "    </tr>\n",
       "    <tr>\n",
       "      <th>2</th>\n",
       "      <td>(48.81, 51.19)</td>\n",
       "      <td>16</td>\n",
       "      <td>0.234046</td>\n",
       "      <td>0.709389</td>\n",
       "      <td>0.208259</td>\n",
       "    </tr>\n",
       "    <tr>\n",
       "      <th>3</th>\n",
       "      <td>(48.42, 51.58)</td>\n",
       "      <td>16</td>\n",
       "      <td>0.114107</td>\n",
       "      <td>0.841166</td>\n",
       "      <td>0.337071</td>\n",
       "    </tr>\n",
       "  </tbody>\n",
       "</table>\n",
       "</div>"
      ],
      "text/plain": [
       "           Values  Sample Size     Alpha  Beta at mu =50.5  Beta at mu =52\n",
       "0    (48.5, 51.5)           10  0.235680          0.728479        0.343488\n",
       "1        (48, 52)           10  0.113846          0.858107        0.499217\n",
       "2  (48.81, 51.19)           16  0.234046          0.709389        0.208259\n",
       "3  (48.42, 51.58)           16  0.114107          0.841166        0.337071"
      ]
     },
     "execution_count": 7,
     "metadata": {},
     "output_type": "execute_result"
    }
   ],
   "source": [
    "df[\"Values\"] = l1\n",
    "df['Sample Size'] = [10,10,16,16]\n",
    "df['Alpha'] = al1\n",
    "df['Beta at mu =50.5'] = m2\n",
    "df['Beta at mu =52'] = m1\n",
    "df\n"
   ]
  },
  {
   "cell_type": "markdown",
   "metadata": {},
   "source": [
    "Problem Statement 8:\n",
    "Find the t-score for a sample size of 16 taken from a population with mean 10 when\n",
    "the sample mean is 12 and the sample standard deviation is 1.5."
   ]
  },
  {
   "cell_type": "code",
   "execution_count": 8,
   "metadata": {},
   "outputs": [
    {
     "name": "stdout",
     "output_type": "stream",
     "text": [
      "5.333333333333333\n"
     ]
    }
   ],
   "source": [
    "#8\n",
    "n = 16\n",
    "mu = 10\n",
    "x_bar = 12\n",
    "s = 1.5\n",
    "t1 = (x_bar - mu)/(s/(n)**0.5)\n",
    "print(t1)"
   ]
  },
  {
   "cell_type": "markdown",
   "metadata": {},
   "source": [
    "Problem Statement 9:\n",
    "Find the t-score below which we can expect 99% of sample means will fall if samples\n",
    "of size 16 are taken from a normally distributed population."
   ]
  },
  {
   "cell_type": "code",
   "execution_count": 9,
   "metadata": {},
   "outputs": [
    {
     "data": {
      "text/plain": [
       "2.602480294995493"
      ]
     },
     "execution_count": 9,
     "metadata": {},
     "output_type": "execute_result"
    }
   ],
   "source": [
    "#9 \n",
    "\n",
    "t.ppf(0.99,df=15)\n"
   ]
  },
  {
   "cell_type": "markdown",
   "metadata": {},
   "source": [
    "Problem Statement 10:\n",
    "If a random sample of size 25 drawn from a normal population gives a mean of 60\n",
    "and a standard deviation of 4, find the range of t-scores where we can expect to find\n",
    "the middle 95% of all sample means. Compute the probability that (−0.05 <t<0.10)."
   ]
  },
  {
   "cell_type": "code",
   "execution_count": 10,
   "metadata": {},
   "outputs": [
    {
     "name": "stdout",
     "output_type": "stream",
     "text": [
      "Range  58.348881150697586  < x <  61.651118849302414\n",
      "Probability 0.05914441613731247\n"
     ]
    }
   ],
   "source": [
    "#10\n",
    "\n",
    "t1=t.ppf(0.025,df=24)\n",
    "t2=t.ppf(1 - 0.025,df=24)\n",
    "\n",
    "n = 25\n",
    "mu = 60\n",
    "s = 4\n",
    "\n",
    "low=t1 * (s/(n**0.5)) + mu\n",
    "high=t2 * (s/(n**0.5)) + mu\n",
    "\n",
    "print(\"Range \",low,\" < x < \" ,high)\n",
    "\n",
    "m1=t.cdf(0.10,df=24)\n",
    "m2=t.cdf(-0.05,df=24)\n",
    "print(\"Probability\", m1-m2)"
   ]
  },
  {
   "cell_type": "markdown",
   "metadata": {},
   "source": [
    "Two-tailed test for difference between two population means\n",
    "Is there evidence to conclude that the number of people travelling from Bangalore to\n",
    "Chennai is different from the number of people travelling from Bangalore to Hosur in\n",
    "a week, given the following:\\\n",
    "Population 1: Bangalore to Chennai \\\n",
    "n1 = 1200\\\n",
    "x1 = 452\\\n",
    "s1 = 212\\\n",
    "Population 2:\\\n",
    "Bangalore to Hosur \\\n",
    "n2 = 800\\\n",
    "x2 = 523\\\n",
    "s2 = 185"
   ]
  },
  {
   "cell_type": "code",
   "execution_count": 11,
   "metadata": {},
   "outputs": [
    {
     "name": "stdout",
     "output_type": "stream",
     "text": [
      "-7.926428526759299\n",
      "2.2553835335706493e-15\n"
     ]
    }
   ],
   "source": [
    "#11\n",
    "#h0 : mu1 - mu2 == 0\n",
    "#h1 : mu1 - mu2 != 0\n",
    "x1=452\n",
    "n1=1200\n",
    "s1 = 212 \n",
    "s2= 185\n",
    "x2=523\n",
    "n2=800\n",
    "std_com = np.sqrt(s1**2/n1 + s2**2/n2)\n",
    "z = (x1 - x2) / std_com\n",
    "print(z)\n",
    "p_val = norm.cdf(z) * 2\n",
    "print(p_val) #reject the H0 the number of people travelling from \n",
    "#Bangalore to Chennai is different from the number of people travelling from Bangalore to Hosur in a week\n"
   ]
  },
  {
   "cell_type": "markdown",
   "metadata": {},
   "source": [
    "Problem Statement 12:\n",
    "Is there evidence to conclude that the number of people preferring Duracell battery is\n",
    "different from the number of people preferring Energizer battery, given the following:\n",
    "\n",
    "Population 1: Duracell\\\n",
    "n1 = 100\\\n",
    "x1 = 308\\\n",
    "s1 = 84\\\n",
    "Population 2: Energizer\\\n",
    "n2 = 100\\\n",
    "x2 = 254\\\n",
    "s2 = 67"
   ]
  },
  {
   "cell_type": "code",
   "execution_count": 12,
   "metadata": {},
   "outputs": [
    {
     "name": "stdout",
     "output_type": "stream",
     "text": [
      "5.025702668336442\n",
      "5.015925256430319e-07\n"
     ]
    }
   ],
   "source": [
    "#12 \n",
    "#h0 : mu1 - mu2 == 0\n",
    "#h1 : mu1 - mu2 != 0\n",
    "n1 = 100\n",
    "x1 = 308\n",
    "s1 =84\n",
    "\n",
    "n2=100\n",
    "x2=254\n",
    "s2=67\n",
    "std_com = np.sqrt(s1**2/n1 + s2**2/n2)\n",
    "z = (x1 - x2) / std_com\n",
    "print(z)\n",
    "p_val = norm.sf(z) * 2\n",
    "print(p_val) # Reject the h0 ,people preferring Duracell battery is different \n",
    "#from the number of people preferring Energizer battery"
   ]
  },
  {
   "cell_type": "markdown",
   "metadata": {},
   "source": [
    "Problem Statement 13:\n",
    "Pooled estimate of the population variance\n",
    "Does the data provide sufficient evidence to conclude that average percentage\n",
    "increase in the price of sugar differs when it is sold at two different prices?\n",
    "\n",
    "Population 1: Price of sugar = Rs. 27.50\\\n",
    "n1 = 14\\\n",
    "x1 = 0.317%\\\n",
    "s1 = 0.12%\\\n",
    "Population 2: Price of sugar = Rs. 20.00\\\n",
    "n2 = 9\\\n",
    "x2 = 0.21%\\\n",
    "s2 = 0.11%"
   ]
  },
  {
   "cell_type": "code",
   "execution_count": 13,
   "metadata": {},
   "outputs": [
    {
     "name": "stdout",
     "output_type": "stream",
     "text": [
      "2.15355322387416\n",
      "0.043047275121217525\n"
     ]
    }
   ],
   "source": [
    "#13\n",
    "#h0 : mu1 - mu2 == 0\n",
    "#h1 : mu1 - mu2 != 0\n",
    "n1 = 14\n",
    "x1=0.317\n",
    "s1=0.12\n",
    "\n",
    "n2=9\n",
    "x2=0.21\n",
    "s2=0.11\n",
    "\n",
    "\n",
    "std_com = (((n1-1) * s1*s1 + (n2 -1)*s2*s2)/(n1 + n2 -2))**0.5\n",
    "t1 = (x1 - x2) / (std_com *((1/n1 + 1/n2)**0.5) )\n",
    "print(t1)\n",
    "p_val = t.sf(t1,df=n1+n2-2) * 2\n",
    "print(p_val)  #reject h0 therefore differs\n",
    "\n"
   ]
  },
  {
   "cell_type": "markdown",
   "metadata": {},
   "source": [
    "Problem Statement 14:\n",
    "The manufacturers of compact disk players want to test whether a small price\n",
    "reduction is enough to increase sales of their product. Is there evidence that the\n",
    "small price reduction is enough to increase sales of compact disk players?\\\n",
    "Population 1: Before reduction\\\n",
    "n1 = 15\\\n",
    "x1 = Rs. 6598 s1 = Rs. 844\\\n",
    "Population 2: After reduction \\\n",
    "n2 = 12\\\n",
    "x2 = RS. 6870\\\n",
    "s2 = Rs. 669"
   ]
  },
  {
   "cell_type": "code",
   "execution_count": 14,
   "metadata": {},
   "outputs": [
    {
     "name": "stdout",
     "output_type": "stream",
     "text": [
      "-0.9098300343990459\n",
      "0.1858005025592589\n"
     ]
    }
   ],
   "source": [
    "#14\n",
    "# h0 mu1 - mu2 ==0\n",
    "# ha mu1 - mu2 < 0\n",
    "n1 = 15\n",
    "x1 = 6598\n",
    "s1 = 844\n",
    "\n",
    "n2 = 12\n",
    "x2 = 6870\n",
    "s2 = 669\n",
    "\n",
    "std_com = (((n1-1) * s1*s1 + (n2 -1)*s2*s2)/(n1 + n2 -2))**0.5\n",
    "t1 = (x1 - x2) / (std_com *((1/n1 + 1/n2)**0.5) )\n",
    "print(t1)\n",
    "\n",
    "p_val = t.cdf(t1,n1+n2 -2) # Fail to reject H0 therefore no change in sales after reduction.\n",
    "print(p_val)"
   ]
  },
  {
   "cell_type": "markdown",
   "metadata": {},
   "source": [
    "Problem Statement 15:\n",
    "Comparisons of two population proportions when the hypothesized difference is zero\n",
    "Carry out a two-tailed test of the equality of banks share of the car loan market in\n",
    "1980 and 1995.\\\n",
    "Population 1: 1980\\\n",
    "n1 = 100\\\n",
    "x1 = 53\\\n",
    "p 1 = 0.53\\\n",
    "Population 2: 1985\\\n",
    "n2 = 100\\\n",
    "x2 = 43\\\n",
    "p2 2= 0.53"
   ]
  },
  {
   "cell_type": "code",
   "execution_count": 15,
   "metadata": {},
   "outputs": [
    {
     "name": "stdout",
     "output_type": "stream",
     "text": [
      "1.4153462926807452\n"
     ]
    },
    {
     "data": {
      "text/plain": [
       "0.15696698825357766"
      ]
     },
     "execution_count": 15,
     "metadata": {},
     "output_type": "execute_result"
    }
   ],
   "source": [
    "#15 \n",
    "#H0 mu1 - mu1 == 0\n",
    "#HA mu1 - mu2 != 0 \n",
    "n1 = 100\n",
    "x1 = 53\n",
    "p1_samp = 0.53\n",
    "\n",
    "n2 = 100\n",
    "x2 = 43\n",
    "p2_samp = 0.43\n",
    "\n",
    "ph = (n1*p1_samp + n2*p2_samp)/(n1 + n2)\n",
    "qh = 1 - ph\n",
    "\n",
    "z = (p1_samp - p2_samp)/(np.sqrt(ph*qh*(1/n1 + 1/n2)))\n",
    "print(z)\n",
    "norm.sf(z) *2 #Fail to reject null hypothesis,therefore share of car loans are same"
   ]
  },
  {
   "cell_type": "markdown",
   "metadata": {},
   "source": [
    "Problem Statement 16 :Carry out a one-tailed test to determine whether the population proportion of\n",
    "traveler’s check buyers who buy at least \\$2500 in checks when sweepstakes prizes\n",
    "are offered as at least 10% higher than the proportion of such buyers when no\n",
    "sweepstakes are on.\n",
    "Population 1: With sweepstakes\\\n",
    "n1 = 300\\\n",
    "x1 = 120\\\n",
    "p1    = 0.40\\\n",
    "Population 2: No sweepstakes n2 = 700\\\n",
    "x2 = 140\\\n",
    "p2 = 0.20"
   ]
  },
  {
   "cell_type": "code",
   "execution_count": 16,
   "metadata": {},
   "outputs": [
    {
     "name": "stdout",
     "output_type": "stream",
     "text": [
      "3.303749523611152\n"
     ]
    },
    {
     "data": {
      "text/plain": [
       "0.00047700513899647835"
      ]
     },
     "execution_count": 16,
     "metadata": {},
     "output_type": "execute_result"
    }
   ],
   "source": [
    "#16\n",
    "#H0 p1 - p2 <= 0.10\n",
    "#HA p1 - p2 > 0.10\n",
    "\n",
    "n1 = 300\n",
    "x1 = 120\n",
    "p1_samp = 0.40\n",
    "\n",
    "n2 = 700\n",
    "x2 = 140\n",
    "p2_samp = 0.20\n",
    "ph = (n1*p1_samp + n2*p2_samp)/(n1 + n2)\n",
    "qh = 1 - ph\n",
    "\n",
    "z = (p1_samp - p2_samp - 0.10)/(np.sqrt(ph*qh*(1/n1 + 1/n2)))\n",
    "print(z)\n",
    "norm.sf(z)  #Reject null hypothesis\n"
   ]
  },
  {
   "cell_type": "code",
   "execution_count": 17,
   "metadata": {},
   "outputs": [],
   "source": [
    "\n",
    "#chi2_contingency\n",
    "def chi2_ind_test(mat):\n",
    "    t = np.sum(mat)\n",
    "    u = np.sum(mat, axis=1) /t # rows\n",
    "    v = np.sum(mat, axis=0) /t #column\n",
    "    l = []\n",
    "    for i in range(0, u.shape[0]):\n",
    "        m = list()\n",
    "        for j in range(0, v.shape[0]):\n",
    "             m.append(t *u[i]*v[j])\n",
    "        l.append(m)\n",
    "    l = np.array(l)\n",
    "    df = (u.shape[0]-1)*(v.shape[0]-1)\n",
    "    if df == 1:\n",
    "        #yates correction\n",
    "        x = np.power((np.abs(mat - l) -0.5),2)/ l\n",
    "    else:\n",
    "        x = np.power((mat - l),2)/ l\n",
    "    x = np.sum(x)\n",
    "    p_val = chi2.sf(x, df)\n",
    "    return  x, p_val, df ,l \n",
    "\n",
    "#chisquare\n",
    "def chi2_one_dim(mat): \n",
    "    mat = np.array(mat)\n",
    "    s = mat.shape[0]\n",
    "    u = np.sum(mat)/s\n",
    "    x = ((mat - u)**2 )/u\n",
    "    x = np.sum(x)\n",
    "    p_val = chi2.sf(x,s-1)\n",
    "    return x, p_val"
   ]
  },
  {
   "cell_type": "code",
   "execution_count": 18,
   "metadata": {},
   "outputs": [
    {
     "name": "stdout",
     "output_type": "stream",
     "text": [
      "9.0 0.1090641579497725\n"
     ]
    }
   ],
   "source": [
    "#17\n",
    "# h0 : unbaised\n",
    "# h1 : baised\n",
    "di = np.array([16,20,25,14,29,28])\n",
    "f_st , p_val = chi2_one_dim(di)\n",
    "print(f_st, p_val) #die is unbaised ,fail to reject h0 "
   ]
  },
  {
   "cell_type": "markdown",
   "metadata": {},
   "source": [
    "Problem Statement 18:\n",
    "In a certain town, there are about one million eligible voters. A simple random\n",
    "sample of 10,000 eligible voters was chosen to study the relationship between\n",
    "gender and participation in the last election. The results are summarized in the\n",
    "following 2X2 (read two by two) contingency table:\n",
    "We would want to check whether being a man or a woman (columns) is independent of\n",
    "having voted in the last election (rows). In other words, is “gender and voting independent”?\n",
    "\n",
    "| | Men | Women |\n",
    "|--| --| -- |\n",
    "|Voted |2792|3591|\n",
    "|Not Voted | 1486 | 2131|"
   ]
  },
  {
   "cell_type": "code",
   "execution_count": 19,
   "metadata": {},
   "outputs": [
    {
     "name": "stdout",
     "output_type": "stream",
     "text": [
      "6.552337973968134 0.010474643100918958\n"
     ]
    }
   ],
   "source": [
    "#18\n",
    "#h0 : independent \n",
    "#h1 : not independent \n",
    "# alpha = 0.05\n",
    "l1 = np.array([[2792,3591],[1486,2131]])\n",
    "f_st, p_val , dof, mat = chi2_ind_test(l1)\n",
    "print(f_st ,p_val) # reject null hypothesis therefore there some relationship between variables"
   ]
  },
  {
   "cell_type": "code",
   "execution_count": 20,
   "metadata": {},
   "outputs": [
    {
     "name": "stdout",
     "output_type": "stream",
     "text": [
      "14.959999999999999 0.001851152735284203\n"
     ]
    }
   ],
   "source": [
    "#19\n",
    "# h0 : homogenous (Equally popular)\n",
    "# h1 : nonhomogenous (not Equally popular)\n",
    "pop = np.array([41,19,24,16])\n",
    "f_st,p_val = chi2_one_dim(pop)\n",
    "print(f_st ,p_val) #reject null hypothesis ,threfore Not equally popular"
   ]
  },
  {
   "cell_type": "markdown",
   "metadata": {},
   "source": [
    "Problem Statement 20:\n",
    "Children of three ages are asked to indicate their preference for three photographs of\n",
    "adults. Do the data suggest that there is a significant relationship between age and\n",
    "photograph preference? What is wrong with this study?\n",
    "\n",
    "\n",
    "|Age of child | A | B | C |\n",
    "|-- | -- | -- | -- |\n",
    "| 5-6 years | 18 | 22 | 20 |\n",
    "| 7-8 years | 2 | 28 | 40 |\n",
    "| 9-10 years | 20 | 10 |40 |"
   ]
  },
  {
   "cell_type": "code",
   "execution_count": 21,
   "metadata": {},
   "outputs": [
    {
     "name": "stdout",
     "output_type": "stream",
     "text": [
      "29.603174603174608 5.894582174262606e-06\n"
     ]
    }
   ],
   "source": [
    "#20\n",
    "# h0 :  variables independent \n",
    "# h1 : variables not independent \n",
    "c_age = np.array([[18,22,20],[2,28,40],[20,10,40]])\n",
    "f_st, p_val , dof, mat =chi2_ind_test(c_age)\n",
    "print(f_st ,p_val)# reject h0 , therefore there is relationship between age and Photograph "
   ]
  },
  {
   "cell_type": "markdown",
   "metadata": {},
   "source": [
    "Problem Statement 21:\n",
    "A study of conformity using the Asch paradigm involved two conditions: one where\n",
    "one confederate supported the true judgement and another where no confederate\n",
    "gave the correct response.\n",
    "Is there a significant difference between the \"support\" and \"no support\" conditions in the\n",
    "frequency with which individuals are likely to conform?\n",
    "\n",
    "|  | Support | No Support|\n",
    "|--| -- | -- |\n",
    "|Conform | 18 | 40 |\n",
    "|Not Conform | 32 | 10 |"
   ]
  },
  {
   "cell_type": "code",
   "execution_count": 22,
   "metadata": {},
   "outputs": [
    {
     "name": "stdout",
     "output_type": "stream",
     "text": [
      "18.10344827586207 2.092221924065813e-05\n"
     ]
    }
   ],
   "source": [
    "#21\n",
    "# h0 : homogenous \n",
    "# h1 : nonhomogenous \n",
    "l1 = np.array([[18,40], [32,10]])\n",
    "f_st, p_val , dof, mat =chi2_ind_test(l1)\n",
    "print(f_st ,p_val)# Reject null hypothesis and There is significant diffrence between them."
   ]
  },
  {
   "cell_type": "markdown",
   "metadata": {},
   "source": [
    "Problem Statement 22:\n",
    "We want to test whether short people differ with respect to their leadership qualities\n",
    "(Genghis Khan, Adolf Hitler and Napoleon were all stature-deprived, and how many midget\n",
    "MP's are there?) The following table shows the frequencies with which 43 short people and\n",
    "52 tall people were categorized as \"leaders\", \"followers\" or as \"unclassifiable\". Is there a\n",
    "relationship between height and leadership qualities?\n",
    "\n",
    "|    |Short| Tall |\n",
    "| -- | --  | --   |\n",
    "|Leader|12 | 32   |\n",
    "|Follower|22|14   |\n",
    "|Unclassifiable| 9 | 6 |"
   ]
  },
  {
   "cell_type": "code",
   "execution_count": 23,
   "metadata": {},
   "outputs": [
    {
     "name": "stdout",
     "output_type": "stream",
     "text": [
      "10.712198008709638 0.004719280137040844\n"
     ]
    }
   ],
   "source": [
    "#22\n",
    "# h0 :  variables independent \n",
    "# h1 : variables not independent \n",
    "l2 = np.array([[12,32], [22,14], [9,6]])\n",
    "f_st, p_val , dof, mat  =chi2_ind_test(l2)\n",
    "print(f_st ,p_val) \n",
    "# for sigificance 0.05 we reject null hypothesis and height and leadership quality are dependent"
   ]
  },
  {
   "cell_type": "markdown",
   "metadata": {},
   "source": [
    "Problem Statement 23:\n",
    "Each respondent in the Current Population Survey of March 1993 was classified as\n",
    "employed, unemployed, or outside the labor force. The results for men in California age 35-\n",
    "44 can be cross-tabulated by marital status, as follows:Men of different marital status seem to have different distributions of labor force status. Or is\n",
    "this just chance variation? (you may assume the table results from a simple random\n",
    "sample.)\n",
    "\n",
    "|    | Married | Widowed divorced | Never Married |\n",
    "| -- | --  | -- |-- |\n",
    "|Employed | 679 | 103 | 114 |\n",
    "|Unemployed |63 | 10 | 20   |\n",
    "|Not In Labor force | 42 | 18 | 25 |"
   ]
  },
  {
   "cell_type": "code",
   "execution_count": 24,
   "metadata": {},
   "outputs": [
    {
     "name": "stdout",
     "output_type": "stream",
     "text": [
      "10.712198008709638 0.004719280137040844\n"
     ]
    }
   ],
   "source": [
    "#23\n",
    "# h0 : independent btw variables\n",
    "# h1 : not independent btw variables\n",
    "\n",
    "l3 = np.array([[679,103,114],[63,10,20],[42,18,25]])\n",
    "f_st, p_val , dof, mat = chi2_ind_test(l2)\n",
    "print(f_st ,p_val)\n",
    "\n",
    "# Reject null Hypothsesis hence there is relationship between martial status and Employement"
   ]
  },
  {
   "cell_type": "markdown",
   "metadata": {},
   "source": [
    "# Since in Problem statement 7 no standard deviation is given so i assumed it to be 4 so you put right value of sigma and check for right answer. I asked the instructor but got no mail from them."
   ]
  },
  {
   "cell_type": "code",
   "execution_count": null,
   "metadata": {},
   "outputs": [],
   "source": []
  },
  {
   "cell_type": "code",
   "execution_count": null,
   "metadata": {},
   "outputs": [],
   "source": []
  },
  {
   "cell_type": "code",
   "execution_count": null,
   "metadata": {},
   "outputs": [],
   "source": []
  }
 ],
 "metadata": {
  "kernelspec": {
   "display_name": "Python 3",
   "language": "python",
   "name": "python3"
  },
  "language_info": {
   "codemirror_mode": {
    "name": "ipython",
    "version": 3
   },
   "file_extension": ".py",
   "mimetype": "text/x-python",
   "name": "python",
   "nbconvert_exporter": "python",
   "pygments_lexer": "ipython3",
   "version": "3.7.7"
  }
 },
 "nbformat": 4,
 "nbformat_minor": 4
}
