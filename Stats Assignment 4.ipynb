{
 "cells": [
  {
   "cell_type": "markdown",
   "metadata": {},
   "source": [
    "Q1:\n",
    "\n",
    "Is gender independent of education level? A random sample of 395 people were surveyed and each person was asked to report the highest education level they obtained. The data that resulted from the survey is summarized in the following table:\n",
    "\n",
    " | Gender | High School | Bachelors | Masters | Ph.d. | Total |\n",
    " | -- | -- | -- | -- | -- | -- |\n",
    " | Female  |60|54 |46|41|201|\n",
    " | Male    |40 |44 |53|57|194|\n",
    " |Total    |100|98 |99|98|395|\n",
    " \n",
    " Question: Are gender and education level dependent at 5% level of significance? In\n",
    "other words, given the data collected above, is there a relationship between the\n",
    "gender of an individual and the level of education that they have obtained?"
   ]
  },
  {
   "cell_type": "code",
   "execution_count": 1,
   "metadata": {},
   "outputs": [],
   "source": [
    "import numpy as np\n",
    "from scipy.stats import chi2 , chi2_contingency, f, f_oneway"
   ]
  },
  {
   "cell_type": "code",
   "execution_count": 2,
   "metadata": {},
   "outputs": [
    {
     "name": "stdout",
     "output_type": "stream",
     "text": [
      "0.045886500891747214\n"
     ]
    }
   ],
   "source": [
    "def chi2_ind_test(mat):\n",
    "    t = np.sum(mat)\n",
    "    u = np.sum(mat, axis=1) /t # rows\n",
    "    v = np.sum(mat, axis=0) /t #column\n",
    "    l = []\n",
    "    for i in range(0, u.shape[0]):\n",
    "        m = list()\n",
    "        for j in range(0, v.shape[0]):\n",
    "             m.append(t *u[i]*v[j])\n",
    "        l.append(m)\n",
    "    l = np.array(l)\n",
    "    df = (u.shape[0]-1)*(v.shape[0]-1)\n",
    "    if df == 1:\n",
    "        #yates correction\n",
    "        x = np.power((np.abs(mat - l) -0.5),2)/ l\n",
    "    else:\n",
    "        x = np.power((mat - l),2)/ l\n",
    "    x = np.sum(x)\n",
    "    p_val = chi2.sf(x, df)\n",
    "    return l, x, p_val, df\n",
    "\n",
    "arr = np.array([[60,54,46,41],[40,44,53,57]])\n",
    "# chi2_contingency in scipy.stats gives same result\n",
    "ch, pval , _ , _ = chi2_contingency(arr)\n",
    "\n",
    "print(pval)"
   ]
  },
  {
   "cell_type": "markdown",
   "metadata": {},
   "source": [
    "H0 : Education and gender are independent \\\n",
    "HA : Education and gender are  not independent\\\n",
    "Since p_val < 0.05 therefore reject the null hypothesis. Education and gender are dependent."
   ]
  },
  {
   "cell_type": "markdown",
   "metadata": {},
   "source": [
    "Q2:\n",
    "Using the following data, perform a oneway analysis of variance using α=.05. Write\n",
    "up the results in APA format.\n",
    "\n",
    "\n",
    " | Group 1 | Group 2 | Group 3 | \n",
    " | -- |-- | -- |\n",
    " |51|23|56|\n",
    " |45|43|76|\n",
    " |33|23|74|\n",
    " |45|43|87|\n",
    " |67|45|56|\n"
   ]
  },
  {
   "cell_type": "code",
   "execution_count": 5,
   "metadata": {},
   "outputs": [
    {
     "name": "stdout",
     "output_type": "stream",
     "text": [
      "F Statistic  9.747205503009457\n",
      "Pvalue 0.003059754143443061\n"
     ]
    }
   ],
   "source": [
    "#h0 : mu1 == mu2 == m3\n",
    "#h1 : At least one of the means is different from the others\n",
    "\n",
    "def oneway_anova(*args):\n",
    "    mu_col = []\n",
    "    for i in args:\n",
    "        mu_col.append(np.mean(i))\n",
    "    \n",
    "    dfe = 0\n",
    "    for i in range(0,len(args)):\n",
    "        dfe += len(args[i])\n",
    "   \n",
    "    mu = 0\n",
    "    for i in args:\n",
    "        mu  = mu + sum(i)\n",
    "        \n",
    "    #grand_mean\n",
    "    mu = mu / dfe\n",
    "    \n",
    "    ssc = 0\n",
    "    for i in range(0,len(mu_col)):\n",
    "        ssc += (len(args[i]) * (mu_col[i] - mu)**2)\n",
    "    sse = 0\n",
    "    for i in range(0,len(mu_col)):\n",
    "        sse += (np.var(args[i]) * len(args[i]))\n",
    "    \n",
    "    dfe = dfe - len(args)\n",
    "    msc = ssc / (len(args) - 1)\n",
    "    mse = sse / dfe \n",
    "    \n",
    "    f1= msc / mse \n",
    "    p_val = f.sf(f1,dfn = len(args)-1 ,dfd = dfe)\n",
    "    return f1 , p_val\n",
    "gr1 = np.array([51,45,33,45,67])\n",
    "gr2 = np.array([23,43,23,43,45])\n",
    "gr3 = np.array([56,76,74,87,56])\n",
    "\n",
    "f_st,p_val = oneway_anova(gr1,gr2,gr3)\n",
    "print('F Statistic ',f_st)\n",
    "print('Pvalue' , p_val)\n",
    "#In scipy.stats module f_oneway gives same result \n",
    "\n",
    "#Since Pvalue  < 0.05 we Reject the h0 and At least one of the means is different from the others"
   ]
  },
  {
   "cell_type": "markdown",
   "metadata": {},
   "source": [
    "Q3:\n",
    "Calculate F Test for given 10, 20, 30, 40, 50 and 5,10,15, 20, 25.\n",
    "For 10, 20, 30, 40, 50:"
   ]
  },
  {
   "cell_type": "code",
   "execution_count": 4,
   "metadata": {},
   "outputs": [
    {
     "name": "stdout",
     "output_type": "stream",
     "text": [
      "Area under m  0.9228113747577933\n",
      "P_value  0.07718862524220671\n"
     ]
    }
   ],
   "source": [
    "l1= np.array([10,20,30,40,50])\n",
    "l2= np.array([5,10,15,20,25])\n",
    "\n",
    "var1 = l1.var()\n",
    "var2 = l2.var()\n",
    "\n",
    "m = var1/var2\n",
    "\n",
    "\n",
    "pval = f.sf(var1/var2 , dfn=5, dfd=5)\n",
    "#P(x<= m)\n",
    "print(\"Area under m \",f.cdf(m,dfn=5,dfd=5))\n",
    "\n",
    "print(\"P_value \", pval)\n"
   ]
  },
  {
   "cell_type": "code",
   "execution_count": null,
   "metadata": {},
   "outputs": [],
   "source": []
  },
  {
   "cell_type": "code",
   "execution_count": null,
   "metadata": {},
   "outputs": [],
   "source": []
  },
  {
   "cell_type": "code",
   "execution_count": null,
   "metadata": {},
   "outputs": [],
   "source": []
  }
 ],
 "metadata": {
  "kernelspec": {
   "display_name": "Python 3",
   "language": "python",
   "name": "python3"
  },
  "language_info": {
   "codemirror_mode": {
    "name": "ipython",
    "version": 3
   },
   "file_extension": ".py",
   "mimetype": "text/x-python",
   "name": "python",
   "nbconvert_exporter": "python",
   "pygments_lexer": "ipython3",
   "version": "3.7.7"
  }
 },
 "nbformat": 4,
 "nbformat_minor": 4
}
