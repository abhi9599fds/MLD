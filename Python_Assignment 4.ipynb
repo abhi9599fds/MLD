{
 "cells": [
  {
   "cell_type": "markdown",
   "metadata": {},
   "source": [
    "1.1\n",
    "Write a Python Program(with class concepts) to find the area of the triangle using the below\n",
    "formula.\n",
    "area = (s*(s-a)*(s-b)*(s-c)) ** 0.5\n",
    "Function to take the length of the sides of triangle from user should be defined in the parent\n",
    "class and function to calculate the area should be defined in subclass."
   ]
  },
  {
   "cell_type": "code",
   "execution_count": 1,
   "metadata": {},
   "outputs": [],
   "source": [
    "class Shape :\n",
    "    def __init__(self):\n",
    "        self.a = 0\n",
    "        self.b = 0\n",
    "        self.c = 0\n",
    "        self.p = 0\n",
    "    def setSide(self,a,b,c):\n",
    "        try :\n",
    "            #This for getting correct side for triangle\n",
    "            if a + b < c or a + c < b or b + c < a :\n",
    "                 raise Exception(\"Sides of Triangle not right\")\n",
    "            self.a = a\n",
    "            self.b = b\n",
    "            self.c = c\n",
    "            self.p = (a + b + c)/2\n",
    "        except Exception as err:\n",
    "            print(err)\n",
    "\n",
    "class Triangle(Shape):\n",
    "    def __init__(self):\n",
    "        super().__init__()\n",
    "    def getParameter(self):\n",
    "        return self.p *2 \n",
    "    def getArea(self):\n",
    "        return (self.p *(self.p-self.a) * (self.p - self.b) *(self.p - self.c))**0.5"
   ]
  },
  {
   "cell_type": "code",
   "execution_count": 4,
   "metadata": {},
   "outputs": [
    {
     "name": "stdout",
     "output_type": "stream",
     "text": [
      "Enter three sides in number 14 20 30\n",
      "117.57550765359255\n"
     ]
    }
   ],
   "source": [
    "t1=Triangle()\n",
    "# This Loop for not to  get invaild values for sides\n",
    "while(True):\n",
    "    try :\n",
    "        sides = list(map(lambda a : int(a), input(\"Enter three sides in number \").split(\" \")))\n",
    "        if len(sides) == 3:\n",
    "            break\n",
    "        else:\n",
    "            print(\"Enter 3 sides \")\n",
    "    except Exception as err:\n",
    "        print(err)\n",
    "t1.setSide(sides[0],sides[1],sides[2])\n",
    "print(t1.getArea())"
   ]
  },
  {
   "cell_type": "markdown",
   "metadata": {},
   "source": [
    "1.2\n",
    "Write a function filter_long_words() that takes a list of words and an integer n and returns the list\n",
    "of words that are longer than n."
   ]
  },
  {
   "cell_type": "code",
   "execution_count": 5,
   "metadata": {},
   "outputs": [
    {
     "name": "stdout",
     "output_type": "stream",
     "text": [
      "['wferferff', 'fefeferf', 'fefeed']\n"
     ]
    }
   ],
   "source": [
    "def filter_long_words(ls , num):\n",
    "    res = list(filter(lambda a : len(a) > num, ls))\n",
    "    return res\n",
    "li = ['abcd','wferferff','dfdf','fefeferf','fefeed']\n",
    "num = 4\n",
    "print(filter_long_words(li,num))"
   ]
  },
  {
   "cell_type": "markdown",
   "metadata": {},
   "source": [
    "2.1\n",
    "Write a Python program using function concept that maps list of words into a list of integers\n",
    "representing the lengths of the corresponding words.\n",
    "Hint: If a list [ ab,cde,erty] is passed on to the python function output should come as [2,3,4]\n",
    "Here 2,3 and 4 are the lengths of the words in the list."
   ]
  },
  {
   "cell_type": "code",
   "execution_count": 6,
   "metadata": {},
   "outputs": [
    {
     "name": "stdout",
     "output_type": "stream",
     "text": [
      "[4, 9, 4, 8, 6]\n"
     ]
    }
   ],
   "source": [
    "def string_to_length(ls):\n",
    "    res = list(map(lambda a :len(a),ls))\n",
    "    return res\n",
    "li = ['abcd','wferferff','dfdf','fefeferf','fefeed']\n",
    "print(string_to_length(li))"
   ]
  },
  {
   "cell_type": "markdown",
   "metadata": {},
   "source": [
    "2.2 Here 2,3 and 4 are the lengths of the words in the list.2.2\n",
    "Write a Python function which takes a character (i.e. a string of length 1) and returns True if it is\n",
    "a vowel, False otherwise."
   ]
  },
  {
   "cell_type": "code",
   "execution_count": 7,
   "metadata": {},
   "outputs": [],
   "source": [
    "def identifyVowel(st):\n",
    "    if st.upper() in ['A','E','I','O','U']:\n",
    "        return True\n",
    "    return False"
   ]
  },
  {
   "cell_type": "code",
   "execution_count": 8,
   "metadata": {},
   "outputs": [
    {
     "name": "stdout",
     "output_type": "stream",
     "text": [
      "Enter Character a\n",
      "True\n"
     ]
    }
   ],
   "source": [
    "ch = input(\"Enter Character \")\n",
    "print(identifyVowel(ch))"
   ]
  },
  {
   "cell_type": "code",
   "execution_count": 9,
   "metadata": {},
   "outputs": [
    {
     "name": "stdout",
     "output_type": "stream",
     "text": [
      "Enter Character f\n",
      "False\n"
     ]
    }
   ],
   "source": [
    "ch = input(\"Enter Character \")\n",
    "print(identifyVowel(ch))"
   ]
  },
  {
   "cell_type": "code",
   "execution_count": null,
   "metadata": {},
   "outputs": [],
   "source": []
  }
 ],
 "metadata": {
  "kernelspec": {
   "display_name": "Python 3",
   "language": "python",
   "name": "python3"
  },
  "language_info": {
   "codemirror_mode": {
    "name": "ipython",
    "version": 3
   },
   "file_extension": ".py",
   "mimetype": "text/x-python",
   "name": "python",
   "nbconvert_exporter": "python",
   "pygments_lexer": "ipython3",
   "version": "3.7.1"
  }
 },
 "nbformat": 4,
 "nbformat_minor": 2
}
