{
 "cells": [
  {
   "cell_type": "code",
   "execution_count": 201,
   "metadata": {},
   "outputs": [],
   "source": [
    "import numpy as np\n",
    "from scipy.stats import norm"
   ]
  },
  {
   "cell_type": "markdown",
   "metadata": {},
   "source": [
    "Q1:\n",
    "Blood glucose levels for obese patients have a mean of 100 with a standard deviation of 15.A researcher thinks that a diet high in raw cornstarch will have a positive effect on\n",
    "blood glucose levels. A sample of 36 patients who have tried the raw cornstarch diet\n",
    "have a mean glucose level of 108. Test the hypothesis that the raw cornstarch had an\n",
    "effect or not.\n",
    "\n",
    "H0 = Null hypothesis\\\n",
    "HA = Alternative hypothesis\\\n",
    "H0 : avg == 100\\\n",
    "HA : avg != 100"
   ]
  },
  {
   "cell_type": "code",
   "execution_count": 204,
   "metadata": {},
   "outputs": [],
   "source": [
    "mu = 100\n",
    "stg = 15\n",
    "x_bar = 108\n",
    "n = 36\n",
    "z = (x_bar - mu) / (stg/(n**0.5))\n",
    "p_val = norm.sf(z) *2\n",
    "#print(p_val) # reject H0 therefore raw cornstarch had an effect"
   ]
  },
  {
   "cell_type": "markdown",
   "metadata": {},
   "source": [
    "Q3 :\n",
    "In one state, 52% of the voters are Republicans, and 48% are Democrats. In a second\n",
    "state, 47% of the voters are Republicans, and 53% are Democrats. Suppose a simple\n",
    "random sample of 100 voters are surveyed from each state.\n",
    "What is the probability that the survey will show a greater percentage of Republican\n",
    "voters in the second state than in the first state?"
   ]
  },
  {
   "cell_type": "code",
   "execution_count": 205,
   "metadata": {},
   "outputs": [
    {
     "name": "stdout",
     "output_type": "stream",
     "text": [
      "0.23946399182220013\n"
     ]
    }
   ],
   "source": [
    "\n",
    "#P(p1<=p2) == P(p1-p2 <=0)\n",
    "P1=0.52\n",
    "P2=0.47\n",
    "n1=100\n",
    "n2 =100\n",
    "z = (0-(P1-P2))/ np.sqrt((P1*(1-P1)/n1) + (P2*(1-P2)/n2)) \n",
    "\n",
    "#P(p1-p2 <= z)\n",
    "prob = norm.cdf(z)\n",
    "\n",
    "#there are 23% probablity of \"more Republican voters in the second state than in the first state\"\n",
    "print(prob)"
   ]
  },
  {
   "cell_type": "markdown",
   "metadata": {},
   "source": [
    "Q3 : \n",
    "You take the SAT and score 1100. The mean score for the SAT is 1026 and the standard\n",
    "deviation is 209. How well did you score on the test compared to the average test taker?"
   ]
  },
  {
   "cell_type": "code",
   "execution_count": 206,
   "metadata": {},
   "outputs": [
    {
     "data": {
      "text/plain": [
       "0.6383556584353189"
      ]
     },
     "execution_count": 206,
     "metadata": {},
     "output_type": "execute_result"
    }
   ],
   "source": [
    "mu = 1026\n",
    "x_bar = 1100\n",
    "std = 209\n",
    "\n",
    "z = (x_bar - mu )/std\n",
    "norm.cdf(z)\n",
    "\n",
    "# 63% people are below his score"
   ]
  },
  {
   "cell_type": "code",
   "execution_count": null,
   "metadata": {},
   "outputs": [],
   "source": []
  }
 ],
 "metadata": {
  "kernelspec": {
   "display_name": "Python 3",
   "language": "python",
   "name": "python3"
  },
  "language_info": {
   "codemirror_mode": {
    "name": "ipython",
    "version": 3
   },
   "file_extension": ".py",
   "mimetype": "text/x-python",
   "name": "python",
   "nbconvert_exporter": "python",
   "pygments_lexer": "ipython3",
   "version": "3.7.7"
  }
 },
 "nbformat": 4,
 "nbformat_minor": 4
}
